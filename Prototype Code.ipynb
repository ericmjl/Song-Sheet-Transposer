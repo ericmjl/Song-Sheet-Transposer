{
 "metadata": {
  "name": "",
  "signature": "sha256:69875bb859601d9dfef683c3739993e3249189e8d39c6aa69cdc90f7a6e5bc8c"
 },
 "nbformat": 3,
 "nbformat_minor": 0,
 "worksheets": [
  {
   "cells": [
    {
     "cell_type": "code",
     "collapsed": false,
     "input": [
      "# song = list(open('\u6709\u4e00\u5929.txt', 'r').readlines())\n",
      "\n",
      "def read_song(filename):\n",
      "    import codecs\n",
      "    song = codecs.open(filename, 'r', 'utf-8').readlines()\n",
      "    key = ''\n",
      "    modifier = ''\n",
      "    title = None\n",
      "    arrangement = []\n",
      "    parts = dict()\n",
      "\n",
      "    for line in song:\n",
      "        \n",
      "        # Parse the title\n",
      "        if line[0:7] == '>>Title':\n",
      "            title = line.split(': ')[1].strip('\\n')\n",
      "        \n",
      "        # Parse the current key of the arrangement\n",
      "        if line[0:5] == '>>Key':\n",
      "            current_key = line.split(':')[1].strip('\\n').strip(' ').split(';')\n",
      "            key = current_key[0]\n",
      "            if len(current_key) > 1:\n",
      "                modifier = current_key[1]\n",
      "            else:\n",
      "                modifier = ''\n",
      "        # Parse the arrangement\n",
      "        if line[0:13] == '>>Arrangement':\n",
      "            arrangement = [part.strip('\\n').strip(' ') for part in line.split(': ')[1].split(',')]\n",
      "        \n",
      "        # Parse out each part\n",
      "        if line[0:3] == '>>>':\n",
      "            part = line[3:].strip('\\n')\n",
      "            parts[part] = dict()\n",
      "            line_counter = 0\n",
      "            # This variable checks to make sure that we are parsing the correct part\n",
      "            part_is_correct = False \n",
      "            \n",
      "            for line2 in song:\n",
      "                \n",
      "                # Make sure that the part variable is correct, then we can proceed\n",
      "                if line2[0:3] == '>>>' and line2[3:].strip('\\n') == part:\n",
      "                    part_is_correct = True\n",
      "                \n",
      "                # Grab each chord and its position in the chord progression\n",
      "                if line2[0:2] == 'C:' and part_is_correct:\n",
      "                    line_counter += 1\n",
      "                    parts[part][line_counter] = dict()\n",
      "                    parts[part][line_counter]['chords'] = dict()\n",
      "                    chords = [c for c in line2.strip('\\n').split(':')[1].split(' ') if c != '']\n",
      "                    for chord in chords:\n",
      "                        position = line2[2:].index(chord)\n",
      "                        parts[part][line_counter]['chords'][position] = chord\n",
      "                # Grab out the lyrics\n",
      "                if line2[0:2] == 'L:' and part_is_correct:\n",
      "                    parts[part][line_counter]['lyrics'] = line2.strip('\\n').split(':')[1]\n",
      "                    \n",
      "                # End parsing\n",
      "                if line2[0:3] == '<<<' and part_is_correct:\n",
      "                    break\n",
      "                    \n",
      "                    \n",
      "    return title, key, modifier, arrangement, parts"
     ],
     "language": "python",
     "metadata": {},
     "outputs": [],
     "prompt_number": 448
    },
    {
     "cell_type": "code",
     "collapsed": false,
     "input": [
      "def get_transpose_delta(oldkey, newkey):\n",
      "    keys = ['A', 'Bb', 'B', 'C', 'C#', 'D', 'D#', 'E', 'F', 'F#', 'G', 'Ab']\n",
      "    old_idx = keys.index(oldkey)\n",
      "    new_idx = keys.index(newkey)\n",
      "    \n",
      "    return (new_idx - old_idx)\n",
      "\n",
      "def transpose_parts(parts, transpose_delta):\n",
      "    from copy import deepcopy\n",
      "    \n",
      "    transposed_parts = deepcopy(parts)\n",
      "    for part, lines in transposed_parts.items():\n",
      "        for line, contents in lines.items():\n",
      "            for position, chord in contents['chords'].items():\n",
      "                contents['chords'][position] = get_transposed_chord(chord, transpose_delta)\n",
      "                \n",
      "    return transposed_parts"
     ],
     "language": "python",
     "metadata": {},
     "outputs": [],
     "prompt_number": 449
    },
    {
     "cell_type": "code",
     "collapsed": false,
     "input": [
      "title, key, modifier, arrangement, parts = read_song(u'\u6709\u4e00\u5929_input.txt')\n",
      "# print(transpose_parts(parts, transpose_delta))\n",
      "print(modifier)"
     ],
     "language": "python",
     "metadata": {},
     "outputs": [
      {
       "output_type": "stream",
       "stream": "stdout",
       "text": [
        "\n"
       ]
      }
     ],
     "prompt_number": 454
    },
    {
     "cell_type": "code",
     "collapsed": false,
     "input": [
      "# Prototyped code for output\n",
      "def write_chords(filename, title, key, modifier, arrangement, parts, new_key):\n",
      "    \n",
      "    newkey = new_key.split(';')[0]\n",
      "    if len(new_key.split(';')) > 1:\n",
      "        newmodifier = new_key.split(';')[1]\n",
      "    else:\n",
      "        newmodifier = ''\n",
      "    if newmodifier != modifier:\n",
      "        raise Exception('New key does not have the same modifier as old key.')\n",
      "    import codecs\n",
      "    \n",
      "    with codecs.open(filename, \"w+\", \"utf-8\") as f: \n",
      "        keys = ['A', 'Bb', 'B', 'C', 'C#', 'D', 'D#', 'E', 'F', 'F#', 'G', 'Ab']\n",
      "        f.write(u'Title: {0}\\n'.format(title))\n",
      "        f.write(u'Key: {0}{1}\\n'.format(newkey, modifier))\n",
      "        f.write(u'Arrangement: ')\n",
      "        for part in arrangement:\n",
      "            f.write('{0} '.format(part))\n",
      "        f.write('\\n\\n')\n",
      "\n",
      "        transpose_delta = get_transpose_delta(key, newkey)\n",
      "        parts = transpose_parts(parts, transpose_delta)\n",
      "\n",
      "        for part in arrangement:\n",
      "            f.write(u'{0}\\n'.format(part))\n",
      "            lines = parts[part]\n",
      "            for line, contents in lines.items():\n",
      "\n",
      "                chordstring = ' '\n",
      "                maxchordpos = max(contents['chords'].keys())\n",
      "                i = 1\n",
      "                while i < maxchordpos + 1:\n",
      "                    if i not in contents['chords'].keys():\n",
      "                        chordstring += ' '\n",
      "                        i += 1\n",
      "                    else:\n",
      "                        for s in contents['chords'][i].split(';'):\n",
      "                            chordstring += s\n",
      "                            i += len(s)\n",
      "                f.write(u'{0}\\n'.format(chordstring))\n",
      "                f.write(u'{0}\\n'.format(contents['lyrics']))\n",
      "            f.write('\\n')"
     ],
     "language": "python",
     "metadata": {},
     "outputs": [],
     "prompt_number": 471
    },
    {
     "cell_type": "code",
     "collapsed": false,
     "input": [
      "print(title)"
     ],
     "language": "python",
     "metadata": {},
     "outputs": [
      {
       "output_type": "stream",
       "stream": "stdout",
       "text": [
        "\u6709\u4e00\u5929\n"
       ]
      }
     ],
     "prompt_number": 472
    },
    {
     "cell_type": "code",
     "collapsed": false,
     "input": [
      "# transpose_delta = get_transpose_delta('A', 'C')\n",
      "print(write_chords('\u6709\u4e00\u5929 Dmaj.txt', title, key, modifier, arrangement, parts, 'D'))"
     ],
     "language": "python",
     "metadata": {},
     "outputs": [
      {
       "output_type": "stream",
       "stream": "stdout",
       "text": [
        "None\n"
       ]
      }
     ],
     "prompt_number": 473
    },
    {
     "cell_type": "code",
     "collapsed": false,
     "input": [
      "# Function for doing chord transposition\n",
      "def get_transposed_key(current_key, transpose_delta):\n",
      "    \"\"\"\n",
      "    Note: only handles the base key and chord key, no modifiers allowed!\n",
      "    \"\"\"\n",
      "    \n",
      "    current_idx = keys.index(current_key)\n",
      "    new_idx = current_idx + transpose_delta\n",
      "    \n",
      "    if new_idx >= len(keys):\n",
      "        new_idx = new_idx % len(keys)\n",
      "#     print(new_idx)\n",
      "        \n",
      "    return keys[new_idx]"
     ],
     "language": "python",
     "metadata": {},
     "outputs": [],
     "prompt_number": 329
    },
    {
     "cell_type": "code",
     "collapsed": false,
     "input": [
      "# Prototype code for computing transposition\n",
      "chord_progression = ['D', 'A', 'C;m', 'G;m7', 'G/C']\n",
      "\n",
      "def get_transposed_chord(current_chord, transpose_delta):\n",
      "    # Get the base key\n",
      "    if len(current_chord.split('/')) > 1:\n",
      "        basekey = current_chord.split('/')[1]\n",
      "    else:\n",
      "        basekey = ''\n",
      "\n",
      "    # Get the chord key\n",
      "    chordkey = current_chord.split('/')[0].split(';')[0]\n",
      "    \n",
      "    # Get any modifiers\n",
      "    if len(current_chord.split(';')) > 1:\n",
      "        modifier = current_chord.split(';')[1]\n",
      "    else:\n",
      "        modifier = ''\n",
      "    \n",
      "    # Transpose the chord key:\n",
      "    new_chordkey = get_transposed_key(chordkey, transpose_delta)\n",
      "    \n",
      "    # Transpose the base key:\n",
      "    if basekey != '':\n",
      "        new_basekey = get_transposed_key(basekey, transpose_delta)\n",
      "\n",
      "        return(new_chordkey + modifier + '/' + new_basekey)\n",
      "    else:\n",
      "        return(new_chordkey + modifier)"
     ],
     "language": "python",
     "metadata": {},
     "outputs": [],
     "prompt_number": 247
    },
    {
     "cell_type": "code",
     "collapsed": false,
     "input": [],
     "language": "python",
     "metadata": {},
     "outputs": []
    },
    {
     "cell_type": "code",
     "collapsed": false,
     "input": [
      "from transpose import SheetMusic"
     ],
     "language": "python",
     "metadata": {},
     "outputs": [],
     "prompt_number": 1
    },
    {
     "cell_type": "code",
     "collapsed": false,
     "input": [
      "sm = SheetMusic()\n",
      "sm.read_song('\u6709\u4e00\u5929_input.txt')\n",
      "sm.parse_song()\n",
      "sm.set_new_key('E')\n",
      "# sm.set_transpose_delta()\n",
      "# sm.set_transposed_parts()\n",
      "# print(sm.transposed_parts)\n",
      "print(sm.arrangement)\n",
      "sm.write_chords('\u6709\u4e00\u5929_output.txt')"
     ],
     "language": "python",
     "metadata": {},
     "outputs": [
      {
       "output_type": "stream",
       "stream": "stdout",
       "text": [
        "[u'Intro', u'Stanza[1]', u'Chorus', u'Stanza[1]', u'Chorus']\n",
        "Intro\n",
        "Stanza[1]\n",
        "Chorus\n",
        "Stanza[1]\n",
        "Chorus\n"
       ]
      }
     ],
     "prompt_number": 2
    },
    {
     "cell_type": "code",
     "collapsed": false,
     "input": [],
     "language": "python",
     "metadata": {},
     "outputs": [],
     "prompt_number": 5
    },
    {
     "cell_type": "code",
     "collapsed": false,
     "input": [],
     "language": "python",
     "metadata": {},
     "outputs": []
    }
   ],
   "metadata": {}
  }
 ]
}