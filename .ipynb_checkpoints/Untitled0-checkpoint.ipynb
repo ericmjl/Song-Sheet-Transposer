{
 "metadata": {
  "name": "",
  "signature": "sha256:14549fac884fd77685a1b8bead7c5c759323610c03484ffe24ffaf3600020690"
 },
 "nbformat": 3,
 "nbformat_minor": 0,
 "worksheets": [
  {
   "cells": [
    {
     "cell_type": "code",
     "collapsed": false,
     "input": [
      "string = ' A          D  F#;m        B;m    F#;m'\n",
      "# list(string)\n",
      "# for i, element in enumerate(string):\n",
      "#     if element != ' ':\n",
      "#         print(string.find(element))\n",
      "string.find('F#;m')"
     ],
     "language": "python",
     "metadata": {},
     "outputs": [
      {
       "metadata": {},
       "output_type": "pyout",
       "prompt_number": 23,
       "text": [
        "15"
       ]
      }
     ],
     "prompt_number": 23
    },
    {
     "cell_type": "code",
     "collapsed": false,
     "input": [],
     "language": "python",
     "metadata": {},
     "outputs": []
    },
    {
     "cell_type": "code",
     "collapsed": false,
     "input": [
      "import re"
     ],
     "language": "python",
     "metadata": {},
     "outputs": [],
     "prompt_number": 24
    },
    {
     "cell_type": "code",
     "collapsed": false,
     "input": [
      "chords = dict()\n",
      "for element in string.split():\n",
      "    poss = [m.start() for m in re.finditer(element, string)]\n",
      "    for pos in poss:\n",
      "        chords[pos] = element\n",
      "chords"
     ],
     "language": "python",
     "metadata": {},
     "outputs": [
      {
       "metadata": {},
       "output_type": "pyout",
       "prompt_number": 25,
       "text": [
        "{1: 'A', 34: 'F#;m', 27: 'B;m', 12: 'D', 15: 'F#;m'}"
       ]
      }
     ],
     "prompt_number": 25
    },
    {
     "cell_type": "code",
     "collapsed": false,
     "input": [],
     "language": "python",
     "metadata": {},
     "outputs": []
    }
   ],
   "metadata": {}
  }
 ]
}